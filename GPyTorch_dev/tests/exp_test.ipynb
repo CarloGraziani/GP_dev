{
 "cells": [
  {
   "cell_type": "code",
   "execution_count": null,
   "metadata": {},
   "outputs": [],
   "source": [
    "import sys, os\n",
    "from pathlib import Path\n",
    "cwd = os.getcwd()\n",
    "parent = str(Path(cwd).parent)\n",
    "sys.path.append(parent)\n",
    "\n",
    "import torch\n",
    "import gpytorch\n",
    "from gpytorch.kernels import RBFKernel\n",
    "from kernels.experimental_uncertainty_kernel import ExperimentalUncertaintyKernel, fix_lengthscale\n",
    "from copy import deepcopy\n",
    "\n",
    "SRBFKernel = fix_lengthscale(RBFKernel)\n",
    "\n",
    "base_kernel = SRBFKernel()\n",
    "\n",
    "euk = ExperimentalUncertaintyKernel(base_kernel, 5, (1,2,3), outputscale_fn=True, lengthscale_fn=True)\n",
    "euk.initialize(os_v = torch.Tensor([0.0, 0.1,0.2]))\n",
    "euk.initialize(ls_v = torch.Tensor([0.0, 0.1,0.2]))\n",
    "\n",
    "x1 = torch.randn(10,4)\n",
    "c = euk(x1, x1)\n",
    "print(c.to_dense())\n"
   ]
  }
 ],
 "metadata": {
  "kernelspec": {
   "display_name": "pytorch.venv",
   "language": "python",
   "name": "python3"
  },
  "language_info": {
   "codemirror_mode": {
    "name": "ipython",
    "version": 3
   },
   "file_extension": ".py",
   "mimetype": "text/x-python",
   "name": "python",
   "nbconvert_exporter": "python",
   "pygments_lexer": "ipython3",
   "version": "3.10.6"
  }
 },
 "nbformat": 4,
 "nbformat_minor": 2
}
