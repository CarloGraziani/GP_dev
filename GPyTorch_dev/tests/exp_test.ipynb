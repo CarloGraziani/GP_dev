{
 "cells": [
  {
   "cell_type": "code",
   "execution_count": null,
   "metadata": {},
   "outputs": [],
   "source": [
    "import sys, os\n",
    "from pathlib import Path\n",
    "cwd = os.getcwd()\n",
    "parent = str(Path(cwd).parent)\n",
    "sys.path.append(parent)\n",
    "\n",
    "import torch\n",
    "import gpytorch\n",
    "from gpytorch.kernels import RBFKernel\n",
    "from kernels.experimental_uncertainty_kernel import ExperimentalUncertaintyKernel, fix_lengthscale\n",
    "from copy import deepcopy\n",
    "\n"
   ]
  },
  {
   "cell_type": "markdown",
   "metadata": {},
   "source": [
    "### **Test the arbitrary block-size branch, training mode**"
   ]
  },
  {
   "cell_type": "code",
   "execution_count": null,
   "metadata": {},
   "outputs": [],
   "source": [
    "SRBFKernel = fix_lengthscale(RBFKernel)\n",
    "\n",
    "base_kernel = SRBFKernel()\n",
    "\n",
    "train_x = torch.randn(10,1)\n",
    "e1 = torch.Tensor([[1,2]])\n",
    "e2 = 2*e1 ; e3 = 3*e1 ; e4 = 4*e1\n",
    "X = torch.vstack((e1,e2,e2,e3,e3,e3,e4,e4,e4,e4))\n",
    "train_x = torch.hstack((train_x, X))\n",
    "\n",
    "euk = ExperimentalUncertaintyKernel(base_kernel, train_x, (1,2,3,4), (1,2), outputscale_fn=True, lengthscale_fn=True)\n",
    "euk.initialize(os_v = torch.Tensor([0.1,0.2]))\n",
    "euk.initialize(ls_v = torch.Tensor([0.0, 0.1]))\n",
    "\n",
    "c = euk(train_x, train_x)\n",
    "print(c.to_dense())"
   ]
  },
  {
   "cell_type": "markdown",
   "metadata": {},
   "source": [
    "### **Now test the test-test and train-test modes**"
   ]
  },
  {
   "cell_type": "code",
   "execution_count": null,
   "metadata": {},
   "outputs": [],
   "source": [
    "test_x = torch.randn(4,1)\n",
    "e5 = 5*e1\n",
    "X = torch.vstack((e5,e5,e5,e5))\n",
    "test_x = torch.hstack((test_x, X))\n",
    "\n",
    "cc = euk(test_x, test_x)\n",
    "print(cc.to_dense())\n",
    "\n",
    "ccc = euk(train_x, test_x)\n",
    "print(ccc.to_dense())"
   ]
  },
  {
   "cell_type": "markdown",
   "metadata": {},
   "source": [
    "### **Test the batched mode with all-equal blocks**"
   ]
  },
  {
   "cell_type": "code",
   "execution_count": null,
   "metadata": {},
   "outputs": [],
   "source": [
    "train_x = torch.randn(9,1)\n",
    "X = torch.vstack((e1,e1,e1,e2,e2,e2,e3,e3,e3))\n",
    "train_x = torch.hstack((train_x, X))\n",
    "\n",
    "euk = ExperimentalUncertaintyKernel(base_kernel, train_x, 3, (1,2), outputscale_fn=True, lengthscale_fn=True)\n",
    "euk.initialize(os_v = torch.Tensor([0.1,0.2]))\n",
    "euk.initialize(ls_v = torch.Tensor([0.0, 0.1]))\n",
    "\n",
    "c = euk(train_x, train_x)\n",
    "print(c.to_dense())"
   ]
  },
  {
   "cell_type": "markdown",
   "metadata": {},
   "source": [
    "### **Test-Train and Test-Test cases**"
   ]
  },
  {
   "cell_type": "code",
   "execution_count": null,
   "metadata": {},
   "outputs": [],
   "source": [
    "cc = euk(test_x, test_x)\n",
    "print(cc.to_dense())\n",
    "\n",
    "ccc = euk(train_x, test_x)\n",
    "print(ccc.to_dense())"
   ]
  }
 ],
 "metadata": {
  "kernelspec": {
   "display_name": "pytorch.venv",
   "language": "python",
   "name": "python3"
  },
  "language_info": {
   "codemirror_mode": {
    "name": "ipython",
    "version": 3
   },
   "file_extension": ".py",
   "mimetype": "text/x-python",
   "name": "python",
   "nbconvert_exporter": "python",
   "pygments_lexer": "ipython3",
   "version": "3.10.12"
  }
 },
 "nbformat": 4,
 "nbformat_minor": 2
}
